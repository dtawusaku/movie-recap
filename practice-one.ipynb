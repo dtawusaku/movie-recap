{
 "cells": [
  {
   "cell_type": "code",
   "execution_count": 1,
   "id": "f0426302",
   "metadata": {},
   "outputs": [],
   "source": [
    "# Import required libraries\n",
    "\n",
    "from bs4 import BeautifulSoup\n",
    "import requests\n",
    "import pandas as pd"
   ]
  },
  {
   "cell_type": "markdown",
   "id": "a570a56e",
   "metadata": {},
   "source": [
    "### Libraries uses\n",
    "- <b>Requests</b> : is a library for making HTTP requests\n",
    "- <b>BS4</b> : is a library that makes it easy to scrape information from web pages\n",
    "- <b>BeautifulSoup</b> : provides simple methods for navigating, searching, and modifying a parse tree in HTML, XML files.\n",
    "- <b>Pandas</b> : it is used for analyzing, cleaning, exploring, and manipulating data."
   ]
  },
  {
   "cell_type": "code",
   "execution_count": 2,
   "id": "69512ab9",
   "metadata": {},
   "outputs": [],
   "source": [
    "# resource\n",
    "url = 'https://www.themoviedb.org/tv/108978-jack-reacher'\n",
    "\n",
    "# get resource\n",
    "page = requests.get(url)\n",
    "\n",
    "# Fetch content\n",
    "soup = BeautifulSoup(page.text, 'html')"
   ]
  },
  {
   "cell_type": "code",
   "execution_count": 3,
   "id": "3035e7e1",
   "metadata": {},
   "outputs": [
    {
     "name": "stdout",
     "output_type": "stream",
     "text": [
      "<!DOCTYPE html>\n",
      "\n",
      "<html class=\"no-js\" lang=\"en\">\n",
      "<head>\n",
      "<title>Request Error (403) - The Movie Database (TMDb)</title>\n",
      "<meta content=\"IE=edge\" http-equiv=\"X-UA-Compatible\"/>\n",
      "<meta content=\"on\" http-equiv=\"cleartype\"/>\n",
      "<meta charset=\"utf-8\"/>\n",
      "<meta content=\"noindex\" name=\"robots\"/>\n",
      "<meta content=\"yes\" name=\"mobile-web-app-capable\"/>\n",
      "<meta content=\"yes\" name=\"apple-mobile-web-app-capable\"/>\n",
      "<meta content=\"True\" name=\"HandheldFriendly\"/>\n",
      "<meta content=\"320\" name=\"MobileOptimized\"/>\n",
      "<meta content=\"width=1120\" name=\"viewport\"/>\n",
      "<meta content=\"#032541\" name=\"theme-color\"/>\n",
      "<link href=\"/assets/2/apple-touch-icon-57ed4b3b0450fd5e9a0c20f34e814b82adaa1085c79bdde2f00ca8787b63d2c4.png\" rel=\"apple-touch-icon\" sizes=\"180x180\"/>\n",
      "<link href=\"/assets/2/favicon-32x32-543a21832c8931d3494a68881f6afcafc58e96c5d324345377f3197a37b367b5.png\" rel=\"icon\" sizes=\"32x32\" type=\"image/png\"/>\n",
      "<link href=\"/assets/2/favicon-16x16-b362d267873ce9c5a39f686a11fe67fec2a72ed25fa8396c11b71aa43c938b11.png\" rel=\"icon\" sizes=\"16x16\" type=\"image/png\"/>\n",
      "<link as=\"font\" crossorigin=\"\" href=\"/assets/2/source-sans-pro-v14-vietnamese_latin-ext_latin_greek-ext_greek_cyrillic-ext_cyrillic-regular-f38472b9e378b8c936f55a92677f575ab69e414d7cc3706ecfefeacd994b7975.woff2\" rel=\"preload\" type=\"font/woff2\"/>\n",
      "<link as=\"font\" crossorigin=\"\" href=\"/assets/2/source-sans-pro-v14-vietnamese_latin-ext_latin_greek-ext_greek_cyrillic-ext_cyrillic-italic-48273a74acbc1611b6ef1d0a771bb8ef042b9922b51d5bff560571dddcb5542a.woff2\" rel=\"preload\" type=\"font/woff2\"/>\n",
      "<link as=\"font\" crossorigin=\"\" href=\"/assets/2/source-sans-pro-v14-vietnamese_latin-ext_latin_greek-ext_greek_cyrillic-ext_cyrillic-300-db9f15a13a9f8b8bc46db7756ab863e8834bd20a7a1124c4c0a5a8f7892f3e99.woff2\" rel=\"preload\" type=\"font/woff2\"/>\n",
      "<link as=\"font\" crossorigin=\"\" href=\"/assets/2/source-sans-pro-v14-vietnamese_latin-ext_latin_greek-ext_greek_cyrillic-ext_cyrillic-600-6a087a74d78fc7d7b97fa1b0911c4ff3be4ff0bd5144618fd7ddc63ef1777f3a.woff2\" rel=\"preload\" type=\"font/woff2\"/>\n",
      "<link as=\"font\" crossorigin=\"\" href=\"/assets/2/source-sans-pro-v14-vietnamese_latin-ext_latin_greek-ext_greek_cyrillic-ext_cyrillic-700-d67f7dff97d105f4ac5616b00fc7822ce2c33f653ece2f547995e6a71bb7b993.woff2\" rel=\"preload\" type=\"font/woff2\"/>\n",
      "<link href=\"/assets/2/v4/fonts-36ddd04013299b102c5aa8b9f8098a1cb925ca0e8e037e557f7e65870703a6bb.css\" media=\"screen\" rel=\"stylesheet\"/>\n",
      "<link href=\"/assets/2/application-3619bce98ff2736e0f0ecf793917e42178112bd7db629cc0be689b26e9ac4742.css\" media=\"screen\" rel=\"stylesheet\"/>\n",
      "<link href=\"/assets/2/v4/errors-63f27e9c55bb287cca52b63eb29a8535a8f61fec9e48c6b380240014ef973bc7.css\" media=\"screen\" rel=\"stylesheet\"/>\n",
      "</head>\n",
      "<body class=\"en v4\">\n",
      "<div class=\"page_wrap _wrap\">\n",
      "<div class=\"card\">\n",
      "<div class=\"header\">\n",
      "<img height=\"60\" src=\"https://www.themoviedb.org/assets/2/apple-touch-icon-cfba7699efe7a742de25c28e08c38525f19381d31087c69e89d6bcb8e3c0ddfa.png\" width=\"60\"/>\n",
      "</div>\n",
      "<h2>Request blocked</h2>\n",
      "<p>Something went wrong with your request. Usually this is a permanent error.</p>\n",
      "</div>\n",
      "</div>\n",
      "</body>\n",
      "</html>\n"
     ]
    }
   ],
   "source": [
    "print(soup)"
   ]
  },
  {
   "cell_type": "code",
   "execution_count": null,
   "id": "4a0d385f",
   "metadata": {},
   "outputs": [],
   "source": []
  },
  {
   "cell_type": "code",
   "execution_count": null,
   "id": "5f73762d",
   "metadata": {},
   "outputs": [],
   "source": []
  }
 ],
 "metadata": {
  "kernelspec": {
   "display_name": "Python 3 (ipykernel)",
   "language": "python",
   "name": "python3"
  },
  "language_info": {
   "codemirror_mode": {
    "name": "ipython",
    "version": 3
   },
   "file_extension": ".py",
   "mimetype": "text/x-python",
   "name": "python",
   "nbconvert_exporter": "python",
   "pygments_lexer": "ipython3",
   "version": "3.11.3"
  }
 },
 "nbformat": 4,
 "nbformat_minor": 5
}
