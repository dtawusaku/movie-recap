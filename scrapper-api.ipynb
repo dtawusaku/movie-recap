{
 "cells": [
  {
   "cell_type": "code",
   "execution_count": null,
   "id": "3e934df7",
   "metadata": {},
   "outputs": [],
   "source": [
    "import requests\n",
    "\n",
    "API_KEY = 'F3Cjsv8yIGNQr2TrveGbvQ4YLjDu8JO9'\n",
    "SCRAPER_URL = 'https://api.webscrapingapi.com/v1'\n",
    "\n",
    "TARGET_URL = 'https://www.imdb.com/title/tt1517268/?ref_=hm_tpks_tt_t_3_pd_tp1_pbr_ic'\n",
    "\n",
    "PARAMS = {\n",
    "    \"api_key\":API_KEY,\n",
    "    \"url\": TARGET_URL,\n",
    "}\n",
    "\n",
    "response = requests.get(SCRAPER_URL, params=PARAMS)\n",
    "\n",
    "print(response)"
   ]
  },
  {
   "cell_type": "code",
   "execution_count": null,
   "id": "069f3af5",
   "metadata": {},
   "outputs": [],
   "source": []
  },
  {
   "cell_type": "code",
   "execution_count": null,
   "id": "9206b973",
   "metadata": {},
   "outputs": [],
   "source": []
  }
 ],
 "metadata": {
  "kernelspec": {
   "display_name": "Python 3 (ipykernel)",
   "language": "python",
   "name": "python3"
  },
  "language_info": {
   "codemirror_mode": {
    "name": "ipython",
    "version": 3
   },
   "file_extension": ".py",
   "mimetype": "text/x-python",
   "name": "python",
   "nbconvert_exporter": "python",
   "pygments_lexer": "ipython3",
   "version": "3.11.3"
  }
 },
 "nbformat": 4,
 "nbformat_minor": 5
}
